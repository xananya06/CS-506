{
 "cells": [
  {
   "cell_type": "code",
   "execution_count": 1,
   "id": "d233c860-53ca-478c-9d4b-53428cb117e1",
   "metadata": {},
   "outputs": [],
   "source": [
    "import numpy as np\n",
    "from sklearn.linear_model import LinearRegression\n",
    "# from sklearn.ensemble import RandomForest\n",
    "import pandas as pd"
   ]
  },
  {
   "cell_type": "code",
   "execution_count": 2,
   "id": "4cabbe9f-dc6d-4814-81c2-18fbae1426e8",
   "metadata": {},
   "outputs": [],
   "source": [
    "df = pd.read_csv('Responsive_record.xlsx - 2020.csv')"
   ]
  },
  {
   "cell_type": "code",
   "execution_count": 3,
   "id": "7908600b-4105-41e2-8fe8-7eedfa9827f0",
   "metadata": {},
   "outputs": [
    {
     "data": {
      "text/plain": [
       "array(['Medically Incapacitated Unit', 'Evidence Control Unit',\n",
       "       'Building Security Unit', 'District 03', 'District 01',\n",
       "       'Paid Detail Assignment Unit', 'District 11', 'District 07',\n",
       "       'District 18', 'District 06', 'Technology Services Division',\n",
       "       'Explosive Ordinance Unit', 'Extended Sick Unit', 'District 04',\n",
       "       'Administrative Leave Unit', 'Firearms Training Unit (Range)',\n",
       "       'Citywide Community Liaison Uni', 'District 14',\n",
       "       'Mobile Operations Patrol Unit', 'District 05',\n",
       "       'Peer Support Unit', 'Canine Unit', 'S.O.R.I. Unit',\n",
       "       'Dignitary Protection Unit', 'Court Unit', 'District 02',\n",
       "       'School Police', 'Homicide Unit', 'Domestic Violence Unit',\n",
       "       'Crime Stoppers Unit', 'Special Operations Division',\n",
       "       'Video Evidence Unit', 'Neighborhood Watch Unit', 'Bicycle Unit',\n",
       "       'Family Assistance Unit', 'Harbor Patrol Unit', 'District 13',\n",
       "       'Academy', 'Bureau Field Serv./ Off. Chief',\n",
       "       'Technical Services Group', 'Hackney Carriage Unit',\n",
       "       'Office of Media Relations', 'Bureau of Community Engagement',\n",
       "       'Crime Scene Response Unit', 'Firearms Analysis Unit',\n",
       "       'Hazard Materials Response Unit', 'Licensing Unit',\n",
       "       'Fugitive Section', 'C-11 DCU SQUAD', 'City Wide DCU SQ #1',\n",
       "       'A-7 DCU SQUAD', 'Suspended Unit', 'Street Outreach Team',\n",
       "       'D-4 DCU SQUAD', 'C-6 DCU SQUAD', 'Student Officers',\n",
       "       'E-18 DCU SQUAD', 'D-14 DCU SQUAD', 'Comm. Vehicle Unit',\n",
       "       'B-2 DCU SQUAD', 'Youth Violence Strike Force', 'B-3 DCU SQUAD',\n",
       "       'A-1 DCU SQUAD', 'E-13 DCU SQUAD', 'City Wide DCU SQ #2',\n",
       "       'E-5 DCU SQUAD', 'Auto Theft Unit', 'Special Events Management',\n",
       "       'Leave Of Absence Unit', 'Office Of Police Commissioner'],\n",
       "      dtype=object)"
      ]
     },
     "execution_count": 3,
     "metadata": {},
     "output_type": "execute_result"
    }
   ],
   "source": [
    "df[df['Job Title'].str.contains('Police Off') & (df['Hrly Rate'] < 45)]['Task Profile Descr'].unique()"
   ]
  },
  {
   "cell_type": "code",
   "execution_count": 4,
   "id": "6f2c5132-249d-4a0c-8276-830ceb620067",
   "metadata": {},
   "outputs": [
    {
     "data": {
      "text/plain": [
       "array(['District 13', 'Court Unit', 'District 05',\n",
       "       'Building Security Unit', 'District 07',\n",
       "       'Medically Incapacitated Unit', 'District 11',\n",
       "       'Hackney Carriage Unit', 'District 01',\n",
       "       'Youth Violence Strike Force', 'Paid Detail Assignment Unit',\n",
       "       'District 14', 'Mobile Operations Patrol Unit', 'A-7 DCU SQUAD',\n",
       "       'Harbor Patrol Unit', 'Special Operations Division',\n",
       "       'Firearms Analysis Unit', 'Firearms Training Unit (Range)',\n",
       "       'District 03', 'Administrative Leave Unit', 'Licensing Unit',\n",
       "       'Canine Unit', 'Peer Support Unit', 'Academy', 'District 02',\n",
       "       'Extended Sick Unit', 'District 06', 'Drug Control Unit',\n",
       "       'District 04', 'District 18', 'School Police',\n",
       "       'Evidence Control Unit', 'Crime Scene Response Unit',\n",
       "       'Explosive Ordinance Unit', 'Crime Stoppers Unit',\n",
       "       'Operations Division', 'Technical Services Group',\n",
       "       'Dignitary Protection Unit', 'Special Investigation Unit',\n",
       "       'Fugitive Section'], dtype=object)"
      ]
     },
     "execution_count": 4,
     "metadata": {},
     "output_type": "execute_result"
    }
   ],
   "source": [
    "df[df['Job Title'].str.contains('Police Off') & (df['Hrly Rate'] > 45)]['Task Profile Descr'].unique()"
   ]
  },
  {
   "cell_type": "code",
   "execution_count": 5,
   "id": "aaf7095b-ea20-4d67-be8c-09ac07df5fbd",
   "metadata": {},
   "outputs": [
    {
     "data": {
      "text/plain": [
       "1843          Fire Investigation Unit\n",
       "1845         Auditing and Review Unit\n",
       "1846        Internal Affairs Division\n",
       "1852       Special Investigation Unit\n",
       "1853        Crime Scene Response Unit\n",
       "                    ...              \n",
       "2175                      District 11\n",
       "2178                      District 03\n",
       "2180                      District 02\n",
       "2183     Medically Incapacitated Unit\n",
       "2195    Mobile Operations Patrol Unit\n",
       "Name: Task Profile Descr, Length: 75, dtype: object"
      ]
     },
     "execution_count": 5,
     "metadata": {},
     "output_type": "execute_result"
    }
   ],
   "source": [
    "df[df['Job Title'].str.contains('Police Lie') & (df['Hrly Rate'] > 55)]['Task Profile Descr']"
   ]
  },
  {
   "cell_type": "code",
   "execution_count": 6,
   "id": "0ac89026-560c-4545-842f-1e49c1fb52bc",
   "metadata": {},
   "outputs": [
    {
     "data": {
      "text/plain": [
       "1849                       Court Unit\n",
       "1857                D.E.A. Task Force\n",
       "1858                   C-11 DCU SQUAD\n",
       "1875        Internal Affairs Division\n",
       "1883                    A-1 Detective\n",
       "1884              City Wide DCU SQ #2\n",
       "1898           Domestic Violence Unit\n",
       "1917                 Fugitive Section\n",
       "1935              Sexual Assault Unit\n",
       "1955        Dignitary Protection Unit\n",
       "1962                    A-7 DCU SQUAD\n",
       "1983                      District 14\n",
       "1989                Peer Support Unit\n",
       "2012                      District 18\n",
       "2013                    B-3 Detective\n",
       "2046                Civil Rights Unit\n",
       "2057     Medically Incapacitated Unit\n",
       "2062      Paid Detail Assignment Unit\n",
       "2065                      District 04\n",
       "2068                      District 11\n",
       "2076                      District 01\n",
       "2086                      District 05\n",
       "2101    Mobile Operations Patrol Unit\n",
       "Name: Task Profile Descr, dtype: object"
      ]
     },
     "execution_count": 6,
     "metadata": {},
     "output_type": "execute_result"
    }
   ],
   "source": [
    "df[df['Job Title'].str.contains('Police Ser') & (df['Hrly Rate'] > 55)]['Task Profile Descr']"
   ]
  },
  {
   "cell_type": "code",
   "execution_count": 7,
   "id": "0aef1f49-28e5-4f1d-a133-e6eb482f584a",
   "metadata": {},
   "outputs": [],
   "source": [
    "grps = df.groupby('Task Profile Descr')"
   ]
  },
  {
   "cell_type": "code",
   "execution_count": 8,
   "id": "60a4a749-b7ed-4d46-bb8c-5ddb6fa2289e",
   "metadata": {},
   "outputs": [
    {
     "data": {
      "text/html": [
       "<div>\n",
       "<style scoped>\n",
       "    .dataframe tbody tr th:only-of-type {\n",
       "        vertical-align: middle;\n",
       "    }\n",
       "\n",
       "    .dataframe tbody tr th {\n",
       "        vertical-align: top;\n",
       "    }\n",
       "\n",
       "    .dataframe thead th {\n",
       "        text-align: right;\n",
       "    }\n",
       "</style>\n",
       "<table border=\"1\" class=\"dataframe\">\n",
       "  <thead>\n",
       "    <tr style=\"text-align: right;\">\n",
       "      <th></th>\n",
       "      <th>ID</th>\n",
       "      <th>Eff Date</th>\n",
       "      <th>Last</th>\n",
       "      <th>First Name</th>\n",
       "      <th>Sex</th>\n",
       "      <th>Union Code</th>\n",
       "      <th>Dept ID</th>\n",
       "      <th>Position</th>\n",
       "      <th>Comp Rate</th>\n",
       "      <th>Annual Rt</th>\n",
       "      <th>Monthly Rt</th>\n",
       "      <th>Hrly Rate</th>\n",
       "      <th>Job Title</th>\n",
       "      <th>As Of</th>\n",
       "      <th>TskProfID</th>\n",
       "      <th>Task Profile Descr</th>\n",
       "      <th>Ethnic Grp</th>\n",
       "    </tr>\n",
       "  </thead>\n",
       "  <tbody>\n",
       "    <tr>\n",
       "      <th>42</th>\n",
       "      <td>8688</td>\n",
       "      <td>7/6/2019</td>\n",
       "      <td>Doris</td>\n",
       "      <td>John</td>\n",
       "      <td>M</td>\n",
       "      <td>PSO</td>\n",
       "      <td>211000</td>\n",
       "      <td>58897</td>\n",
       "      <td>2049.414533</td>\n",
       "      <td>106569.556</td>\n",
       "      <td>7973.906</td>\n",
       "      <td>46.003305</td>\n",
       "      <td>Police Offc Comm Serv Offc 3$8</td>\n",
       "      <td>1/6/2020</td>\n",
       "      <td>TSKPP44140</td>\n",
       "      <td>District 14</td>\n",
       "      <td>WHITE</td>\n",
       "    </tr>\n",
       "    <tr>\n",
       "      <th>47</th>\n",
       "      <td>8697</td>\n",
       "      <td>7/6/2019</td>\n",
       "      <td>MacCallum</td>\n",
       "      <td>Jeffrey</td>\n",
       "      <td>M</td>\n",
       "      <td>PSO</td>\n",
       "      <td>211000</td>\n",
       "      <td>7189</td>\n",
       "      <td>2059.414533</td>\n",
       "      <td>107089.556</td>\n",
       "      <td>7272.556</td>\n",
       "      <td>41.957055</td>\n",
       "      <td>Police Officer</td>\n",
       "      <td>1/6/2020</td>\n",
       "      <td>TSKPP44140</td>\n",
       "      <td>District 14</td>\n",
       "      <td>WHITE</td>\n",
       "    </tr>\n",
       "    <tr>\n",
       "      <th>63</th>\n",
       "      <td>8855</td>\n",
       "      <td>7/6/2019</td>\n",
       "      <td>Harrington</td>\n",
       "      <td>Mark</td>\n",
       "      <td>M</td>\n",
       "      <td>PDS</td>\n",
       "      <td>211000</td>\n",
       "      <td>40201</td>\n",
       "      <td>2472.083445</td>\n",
       "      <td>128548.339</td>\n",
       "      <td>7939.239</td>\n",
       "      <td>45.803305</td>\n",
       "      <td>Police Officer</td>\n",
       "      <td>1/6/2020</td>\n",
       "      <td>TSKPP44140</td>\n",
       "      <td>District 14</td>\n",
       "      <td>BLACK</td>\n",
       "    </tr>\n",
       "    <tr>\n",
       "      <th>162</th>\n",
       "      <td>9675</td>\n",
       "      <td>7/6/2019</td>\n",
       "      <td>Brown</td>\n",
       "      <td>Gwendolyn</td>\n",
       "      <td>F</td>\n",
       "      <td>PSO</td>\n",
       "      <td>211000</td>\n",
       "      <td>48280</td>\n",
       "      <td>2059.414533</td>\n",
       "      <td>107089.556</td>\n",
       "      <td>7939.239</td>\n",
       "      <td>45.803305</td>\n",
       "      <td>Police Officer</td>\n",
       "      <td>1/6/2020</td>\n",
       "      <td>TSKPP44140</td>\n",
       "      <td>District 14</td>\n",
       "      <td>WHITE</td>\n",
       "    </tr>\n",
       "    <tr>\n",
       "      <th>174</th>\n",
       "      <td>9714</td>\n",
       "      <td>7/6/2019</td>\n",
       "      <td>Carino</td>\n",
       "      <td>George</td>\n",
       "      <td>M</td>\n",
       "      <td>PDS</td>\n",
       "      <td>211000</td>\n",
       "      <td>51334</td>\n",
       "      <td>2164.313253</td>\n",
       "      <td>112544.289</td>\n",
       "      <td>7272.556</td>\n",
       "      <td>41.957055</td>\n",
       "      <td>Police Officer</td>\n",
       "      <td>1/6/2020</td>\n",
       "      <td>TSKPP44140</td>\n",
       "      <td>District 14</td>\n",
       "      <td>WHITE</td>\n",
       "    </tr>\n",
       "    <tr>\n",
       "      <th>...</th>\n",
       "      <td>...</td>\n",
       "      <td>...</td>\n",
       "      <td>...</td>\n",
       "      <td>...</td>\n",
       "      <td>...</td>\n",
       "      <td>...</td>\n",
       "      <td>...</td>\n",
       "      <td>...</td>\n",
       "      <td>...</td>\n",
       "      <td>...</td>\n",
       "      <td>...</td>\n",
       "      <td>...</td>\n",
       "      <td>...</td>\n",
       "      <td>...</td>\n",
       "      <td>...</td>\n",
       "      <td>...</td>\n",
       "      <td>...</td>\n",
       "    </tr>\n",
       "    <tr>\n",
       "      <th>2190</th>\n",
       "      <td>157658</td>\n",
       "      <td>12/9/2019</td>\n",
       "      <td>Politsopoulos</td>\n",
       "      <td>Nicholas</td>\n",
       "      <td>M</td>\n",
       "      <td>BPP</td>\n",
       "      <td>211000</td>\n",
       "      <td>58995</td>\n",
       "      <td>1239.308343</td>\n",
       "      <td>64444.034</td>\n",
       "      <td>8835.556</td>\n",
       "      <td>50.974359</td>\n",
       "      <td>Police Sergeant</td>\n",
       "      <td>1/6/2020</td>\n",
       "      <td>TSKPP44140</td>\n",
       "      <td>District 14</td>\n",
       "      <td>HISPA</td>\n",
       "    </tr>\n",
       "    <tr>\n",
       "      <th>2201</th>\n",
       "      <td>157671</td>\n",
       "      <td>12/9/2019</td>\n",
       "      <td>Grady</td>\n",
       "      <td>Liam</td>\n",
       "      <td>M</td>\n",
       "      <td>BPP</td>\n",
       "      <td>211000</td>\n",
       "      <td>60477</td>\n",
       "      <td>1239.308343</td>\n",
       "      <td>64444.034</td>\n",
       "      <td>8559.907</td>\n",
       "      <td>49.384078</td>\n",
       "      <td>Police Sergeant</td>\n",
       "      <td>1/6/2020</td>\n",
       "      <td>TSKPP44140</td>\n",
       "      <td>District 14</td>\n",
       "      <td>WHITE</td>\n",
       "    </tr>\n",
       "    <tr>\n",
       "      <th>2202</th>\n",
       "      <td>157672</td>\n",
       "      <td>12/9/2019</td>\n",
       "      <td>Grehan</td>\n",
       "      <td>Mark</td>\n",
       "      <td>M</td>\n",
       "      <td>BPP</td>\n",
       "      <td>211000</td>\n",
       "      <td>60478</td>\n",
       "      <td>1239.308343</td>\n",
       "      <td>64444.034</td>\n",
       "      <td>8559.907</td>\n",
       "      <td>49.384078</td>\n",
       "      <td>Police Sergeant</td>\n",
       "      <td>1/6/2020</td>\n",
       "      <td>TSKPP44140</td>\n",
       "      <td>District 14</td>\n",
       "      <td>WHITE</td>\n",
       "    </tr>\n",
       "    <tr>\n",
       "      <th>2213</th>\n",
       "      <td>157684</td>\n",
       "      <td>12/9/2019</td>\n",
       "      <td>Muraca</td>\n",
       "      <td>Jonathan</td>\n",
       "      <td>M</td>\n",
       "      <td>BPP</td>\n",
       "      <td>211000</td>\n",
       "      <td>3918</td>\n",
       "      <td>1239.308343</td>\n",
       "      <td>64444.034</td>\n",
       "      <td>8559.907</td>\n",
       "      <td>49.384078</td>\n",
       "      <td>Police Sergeant</td>\n",
       "      <td>1/6/2020</td>\n",
       "      <td>TSKPP44140</td>\n",
       "      <td>District 14</td>\n",
       "      <td>WHITE</td>\n",
       "    </tr>\n",
       "    <tr>\n",
       "      <th>2220</th>\n",
       "      <td>157692</td>\n",
       "      <td>12/9/2019</td>\n",
       "      <td>Mccarthy</td>\n",
       "      <td>John</td>\n",
       "      <td>M</td>\n",
       "      <td>BPP</td>\n",
       "      <td>211000</td>\n",
       "      <td>5062</td>\n",
       "      <td>1239.308343</td>\n",
       "      <td>64444.034</td>\n",
       "      <td>8559.907</td>\n",
       "      <td>49.384078</td>\n",
       "      <td>Police Sergeant</td>\n",
       "      <td>1/6/2020</td>\n",
       "      <td>TSKPP44140</td>\n",
       "      <td>District 14</td>\n",
       "      <td>WHITE</td>\n",
       "    </tr>\n",
       "  </tbody>\n",
       "</table>\n",
       "<p>74 rows × 17 columns</p>\n",
       "</div>"
      ],
      "text/plain": [
       "          ID   Eff Date           Last First Name Sex Union Code  Dept ID  \\\n",
       "42      8688   7/6/2019          Doris       John   M        PSO   211000   \n",
       "47      8697   7/6/2019      MacCallum    Jeffrey   M        PSO   211000   \n",
       "63      8855   7/6/2019     Harrington       Mark   M        PDS   211000   \n",
       "162     9675   7/6/2019          Brown  Gwendolyn   F        PSO   211000   \n",
       "174     9714   7/6/2019         Carino     George   M        PDS   211000   \n",
       "...      ...        ...            ...        ...  ..        ...      ...   \n",
       "2190  157658  12/9/2019  Politsopoulos   Nicholas   M        BPP   211000   \n",
       "2201  157671  12/9/2019          Grady       Liam   M        BPP   211000   \n",
       "2202  157672  12/9/2019         Grehan       Mark   M        BPP   211000   \n",
       "2213  157684  12/9/2019         Muraca   Jonathan   M        BPP   211000   \n",
       "2220  157692  12/9/2019       Mccarthy       John   M        BPP   211000   \n",
       "\n",
       "      Position    Comp Rate   Annual Rt  Monthly Rt  Hrly Rate  \\\n",
       "42       58897  2049.414533  106569.556    7973.906  46.003305   \n",
       "47        7189  2059.414533  107089.556    7272.556  41.957055   \n",
       "63       40201  2472.083445  128548.339    7939.239  45.803305   \n",
       "162      48280  2059.414533  107089.556    7939.239  45.803305   \n",
       "174      51334  2164.313253  112544.289    7272.556  41.957055   \n",
       "...        ...          ...         ...         ...        ...   \n",
       "2190     58995  1239.308343   64444.034    8835.556  50.974359   \n",
       "2201     60477  1239.308343   64444.034    8559.907  49.384078   \n",
       "2202     60478  1239.308343   64444.034    8559.907  49.384078   \n",
       "2213      3918  1239.308343   64444.034    8559.907  49.384078   \n",
       "2220      5062  1239.308343   64444.034    8559.907  49.384078   \n",
       "\n",
       "                           Job Title     As Of   TskProfID Task Profile Descr  \\\n",
       "42    Police Offc Comm Serv Offc 3$8  1/6/2020  TSKPP44140        District 14   \n",
       "47                    Police Officer  1/6/2020  TSKPP44140        District 14   \n",
       "63                    Police Officer  1/6/2020  TSKPP44140        District 14   \n",
       "162                   Police Officer  1/6/2020  TSKPP44140        District 14   \n",
       "174                   Police Officer  1/6/2020  TSKPP44140        District 14   \n",
       "...                              ...       ...         ...                ...   \n",
       "2190                 Police Sergeant  1/6/2020  TSKPP44140        District 14   \n",
       "2201                 Police Sergeant  1/6/2020  TSKPP44140        District 14   \n",
       "2202                 Police Sergeant  1/6/2020  TSKPP44140        District 14   \n",
       "2213                 Police Sergeant  1/6/2020  TSKPP44140        District 14   \n",
       "2220                 Police Sergeant  1/6/2020  TSKPP44140        District 14   \n",
       "\n",
       "     Ethnic Grp  \n",
       "42        WHITE  \n",
       "47        WHITE  \n",
       "63        BLACK  \n",
       "162       WHITE  \n",
       "174       WHITE  \n",
       "...         ...  \n",
       "2190      HISPA  \n",
       "2201      WHITE  \n",
       "2202      WHITE  \n",
       "2213      WHITE  \n",
       "2220      WHITE  \n",
       "\n",
       "[74 rows x 17 columns]"
      ]
     },
     "execution_count": 8,
     "metadata": {},
     "output_type": "execute_result"
    }
   ],
   "source": [
    "grps.get_group('District 14')"
   ]
  },
  {
   "cell_type": "code",
   "execution_count": 9,
   "id": "0cadd828-b712-4cc9-baac-86e5e53e67a5",
   "metadata": {},
   "outputs": [
    {
     "data": {
      "text/html": [
       "<div>\n",
       "<style scoped>\n",
       "    .dataframe tbody tr th:only-of-type {\n",
       "        vertical-align: middle;\n",
       "    }\n",
       "\n",
       "    .dataframe tbody tr th {\n",
       "        vertical-align: top;\n",
       "    }\n",
       "\n",
       "    .dataframe thead th {\n",
       "        text-align: right;\n",
       "    }\n",
       "</style>\n",
       "<table border=\"1\" class=\"dataframe\">\n",
       "  <thead>\n",
       "    <tr style=\"text-align: right;\">\n",
       "      <th></th>\n",
       "      <th>mean_hrlyrate</th>\n",
       "      <th>count</th>\n",
       "      <th>count_white</th>\n",
       "    </tr>\n",
       "    <tr>\n",
       "      <th>Task Profile Descr</th>\n",
       "      <th></th>\n",
       "      <th></th>\n",
       "      <th></th>\n",
       "    </tr>\n",
       "  </thead>\n",
       "  <tbody>\n",
       "    <tr>\n",
       "      <th>A-1 DCU SQUAD</th>\n",
       "      <td>43.693226</td>\n",
       "      <td>6</td>\n",
       "      <td>[WHITE, BLACK]</td>\n",
       "    </tr>\n",
       "    <tr>\n",
       "      <th>A-1 Detective</th>\n",
       "      <td>47.865491</td>\n",
       "      <td>14</td>\n",
       "      <td>[WHITE, BLACK, ASIAN]</td>\n",
       "    </tr>\n",
       "    <tr>\n",
       "      <th>A-7 DCU SQUAD</th>\n",
       "      <td>47.293958</td>\n",
       "      <td>4</td>\n",
       "      <td>[HISPA, WHITE]</td>\n",
       "    </tr>\n",
       "    <tr>\n",
       "      <th>A-7 Detective</th>\n",
       "      <td>46.107938</td>\n",
       "      <td>10</td>\n",
       "      <td>[WHITE, BLACK, HISPA]</td>\n",
       "    </tr>\n",
       "    <tr>\n",
       "      <th>Academy</th>\n",
       "      <td>45.956905</td>\n",
       "      <td>22</td>\n",
       "      <td>[BLACK, HISPA, WHITE, ASIAN]</td>\n",
       "    </tr>\n",
       "    <tr>\n",
       "      <th>...</th>\n",
       "      <td>...</td>\n",
       "      <td>...</td>\n",
       "      <td>...</td>\n",
       "    </tr>\n",
       "    <tr>\n",
       "      <th>Suspended Unit</th>\n",
       "      <td>40.528219</td>\n",
       "      <td>6</td>\n",
       "      <td>[BLACK, WHITE]</td>\n",
       "    </tr>\n",
       "    <tr>\n",
       "      <th>Technical Services Group</th>\n",
       "      <td>43.735465</td>\n",
       "      <td>2</td>\n",
       "      <td>[WHITE, BLACK]</td>\n",
       "    </tr>\n",
       "    <tr>\n",
       "      <th>Technology Services Division</th>\n",
       "      <td>45.443751</td>\n",
       "      <td>3</td>\n",
       "      <td>[BLACK, ASIAN, WHITE]</td>\n",
       "    </tr>\n",
       "    <tr>\n",
       "      <th>Video Evidence Unit</th>\n",
       "      <td>43.861041</td>\n",
       "      <td>5</td>\n",
       "      <td>[WHITE, HISPA, ASIAN]</td>\n",
       "    </tr>\n",
       "    <tr>\n",
       "      <th>Youth Violence Strike Force</th>\n",
       "      <td>42.118434</td>\n",
       "      <td>51</td>\n",
       "      <td>[BLACK, WHITE, HISPA]</td>\n",
       "    </tr>\n",
       "  </tbody>\n",
       "</table>\n",
       "<p>121 rows × 3 columns</p>\n",
       "</div>"
      ],
      "text/plain": [
       "                              mean_hrlyrate  count  \\\n",
       "Task Profile Descr                                   \n",
       "A-1 DCU SQUAD                     43.693226      6   \n",
       "A-1 Detective                     47.865491     14   \n",
       "A-7 DCU SQUAD                     47.293958      4   \n",
       "A-7 Detective                     46.107938     10   \n",
       "Academy                           45.956905     22   \n",
       "...                                     ...    ...   \n",
       "Suspended Unit                    40.528219      6   \n",
       "Technical Services Group          43.735465      2   \n",
       "Technology Services Division      45.443751      3   \n",
       "Video Evidence Unit               43.861041      5   \n",
       "Youth Violence Strike Force       42.118434     51   \n",
       "\n",
       "                                               count_white  \n",
       "Task Profile Descr                                          \n",
       "A-1 DCU SQUAD                               [WHITE, BLACK]  \n",
       "A-1 Detective                        [WHITE, BLACK, ASIAN]  \n",
       "A-7 DCU SQUAD                               [HISPA, WHITE]  \n",
       "A-7 Detective                        [WHITE, BLACK, HISPA]  \n",
       "Academy                       [BLACK, HISPA, WHITE, ASIAN]  \n",
       "...                                                    ...  \n",
       "Suspended Unit                              [BLACK, WHITE]  \n",
       "Technical Services Group                    [WHITE, BLACK]  \n",
       "Technology Services Division         [BLACK, ASIAN, WHITE]  \n",
       "Video Evidence Unit                  [WHITE, HISPA, ASIAN]  \n",
       "Youth Violence Strike Force          [BLACK, WHITE, HISPA]  \n",
       "\n",
       "[121 rows x 3 columns]"
      ]
     },
     "execution_count": 9,
     "metadata": {},
     "output_type": "execute_result"
    }
   ],
   "source": [
    "grps.agg(mean_hrlyrate=(\"Hrly Rate\", 'mean'),count=('ID','count'),count_white=('Ethnic Grp', 'unique'))"
   ]
  },
  {
   "cell_type": "code",
   "execution_count": 81,
   "id": "afd8c5f5-733e-430a-bf90-23af9ec510ae",
   "metadata": {},
   "outputs": [],
   "source": [
    "white_grp = df.loc[(df['Ethnic Grp'] == 'WHITE') & (df['Job Title'].str.contains('Police Off'))].groupby('Task Profile Descr').agg(mean_hrlyratew=(\"Hrly Rate\", 'mean'),white_count=('ID','count'),tsk=('Task Profile Descr','unique'))"
   ]
  },
  {
   "cell_type": "code",
   "execution_count": 82,
   "id": "146c3ac7-6749-4f9e-84cb-c3f49259a188",
   "metadata": {},
   "outputs": [],
   "source": [
    "black_grp = df.loc[(df['Ethnic Grp'] == 'BLACK') & (df['Job Title'].str.contains('Police Off'))].groupby('Task Profile Descr').agg(mean_hrlyrateb=(\"Hrly Rate\", 'mean'),black_count=('ID','count'),tsk=('Task Profile Descr','unique'))"
   ]
  },
  {
   "cell_type": "code",
   "execution_count": 83,
   "id": "7abccb58-f29f-40c5-9b43-2349069741bf",
   "metadata": {},
   "outputs": [],
   "source": [
    "hispa_grp = df.loc[(df['Ethnic Grp'] == 'HISPA') & (df['Job Title'].str.contains('Police Off'))].groupby('Task Profile Descr').agg(mean_hrlyrateh=(\"Hrly Rate\", 'mean'),hispa_count=('ID','count'),tsk=('Task Profile Descr','unique'))"
   ]
  },
  {
   "cell_type": "code",
   "execution_count": 84,
   "id": "35bdb586-9b36-4701-902b-1e8410077b45",
   "metadata": {},
   "outputs": [],
   "source": [
    "asian_grp = df.loc[(df['Ethnic Grp'] == 'ASIAN') & (df['Job Title'].str.contains('Police Off'))].groupby('Task Profile Descr').agg(mean_hrlyratea=(\"Hrly Rate\", 'mean'),asian_count=('ID','count'),tsk=('Task Profile Descr','unique'))"
   ]
  },
  {
   "cell_type": "code",
   "execution_count": 85,
   "id": "2c80aea0-9bbe-4851-8fcd-8764c07590e7",
   "metadata": {},
   "outputs": [
    {
     "data": {
      "text/plain": [
       "<bound method DataFrame.count of                              mean_hrlyratew  white_count  \\\n",
       "Task Profile Descr                                         \n",
       "A-1 DCU SQUAD                     41.828072            3   \n",
       "A-7 DCU SQUAD                     44.552125            1   \n",
       "Academy                           41.919387            6   \n",
       "Administrative Leave Unit         41.883898            3   \n",
       "Auto Theft Unit                   39.905070            1   \n",
       "...                                     ...          ...   \n",
       "Student Officers                  30.982709           68   \n",
       "Suspended Unit                    39.945258            2   \n",
       "Technical Services Group          41.957055            1   \n",
       "Video Evidence Unit               41.812340            2   \n",
       "Youth Violence Strike Force       39.988434           26   \n",
       "\n",
       "                                                       tsk  \n",
       "Task Profile Descr                                          \n",
       "A-1 DCU SQUAD                              [A-1 DCU SQUAD]  \n",
       "A-7 DCU SQUAD                              [A-7 DCU SQUAD]  \n",
       "Academy                                          [Academy]  \n",
       "Administrative Leave Unit      [Administrative Leave Unit]  \n",
       "Auto Theft Unit                          [Auto Theft Unit]  \n",
       "...                                                    ...  \n",
       "Student Officers                        [Student Officers]  \n",
       "Suspended Unit                            [Suspended Unit]  \n",
       "Technical Services Group        [Technical Services Group]  \n",
       "Video Evidence Unit                  [Video Evidence Unit]  \n",
       "Youth Violence Strike Force  [Youth Violence Strike Force]  \n",
       "\n",
       "[65 rows x 3 columns]>"
      ]
     },
     "execution_count": 85,
     "metadata": {},
     "output_type": "execute_result"
    }
   ],
   "source": [
    "white_grp.count"
   ]
  },
  {
   "cell_type": "code",
   "execution_count": 86,
   "id": "abee118a-5bb3-41d6-b592-1acdcfa486d9",
   "metadata": {},
   "outputs": [
    {
     "data": {
      "text/plain": [
       "TtestResult(statistic=-2.8379295989574165, pvalue=0.005354283349730919, df=117.0)"
      ]
     },
     "execution_count": 86,
     "metadata": {},
     "output_type": "execute_result"
    }
   ],
   "source": [
    "from scipy.stats import ttest_ind\n",
    "\n",
    "ttest_ind(white_grp['mean_hrlyratew'], black_grp['mean_hrlyrateb'])"
   ]
  },
  {
   "cell_type": "code",
   "execution_count": 87,
   "id": "fab536fa-1d0a-4e40-a8a1-bd053d2c6203",
   "metadata": {},
   "outputs": [
    {
     "data": {
      "text/plain": [
       "TtestResult(statistic=-0.02170425905268619, pvalue=0.9827258573326944, df=103.0)"
      ]
     },
     "execution_count": 87,
     "metadata": {},
     "output_type": "execute_result"
    }
   ],
   "source": [
    "ttest_ind(white_grp['mean_hrlyratew'], hispa_grp['mean_hrlyrateh'])"
   ]
  },
  {
   "cell_type": "code",
   "execution_count": 88,
   "id": "1f7fdd92-ce03-4664-bee0-74f5a06000ce",
   "metadata": {},
   "outputs": [
    {
     "data": {
      "text/plain": [
       "TtestResult(statistic=0.9492503151499053, pvalue=0.3453882384788233, df=79.0)"
      ]
     },
     "execution_count": 88,
     "metadata": {},
     "output_type": "execute_result"
    }
   ],
   "source": [
    "ttest_ind(white_grp['mean_hrlyratew'], asian_grp['mean_hrlyratea'])"
   ]
  },
  {
   "cell_type": "code",
   "execution_count": 48,
   "id": "ee8ab3d7-8b70-4da7-84d1-7392e2873075",
   "metadata": {},
   "outputs": [],
   "source": [
    "wbha = pd.merge(pd.merge(pd.merge(white_grp,black_grp,how='outer'), hispa_grp, how='outer'), asian_grp, how= 'outer')"
   ]
  },
  {
   "cell_type": "code",
   "execution_count": 50,
   "id": "ec8f0344-9830-4016-b8c7-7515f7e4e050",
   "metadata": {},
   "outputs": [
    {
     "data": {
      "text/html": [
       "<div>\n",
       "<style scoped>\n",
       "    .dataframe tbody tr th:only-of-type {\n",
       "        vertical-align: middle;\n",
       "    }\n",
       "\n",
       "    .dataframe tbody tr th {\n",
       "        vertical-align: top;\n",
       "    }\n",
       "\n",
       "    .dataframe thead th {\n",
       "        text-align: right;\n",
       "    }\n",
       "</style>\n",
       "<table border=\"1\" class=\"dataframe\">\n",
       "  <thead>\n",
       "    <tr style=\"text-align: right;\">\n",
       "      <th></th>\n",
       "      <th>mean_hrlyratew</th>\n",
       "      <th>white_count</th>\n",
       "      <th>tsk</th>\n",
       "      <th>mean_hrlyrateb</th>\n",
       "      <th>black_count</th>\n",
       "      <th>mean_hrlyrateh</th>\n",
       "      <th>hispa_count</th>\n",
       "      <th>mean_hrlyratea</th>\n",
       "      <th>asian_count</th>\n",
       "    </tr>\n",
       "  </thead>\n",
       "  <tbody>\n",
       "    <tr>\n",
       "      <th>0</th>\n",
       "      <td>44.450857</td>\n",
       "      <td>5.0</td>\n",
       "      <td>[A-1 DCU SQUAD]</td>\n",
       "      <td>39.905070</td>\n",
       "      <td>1.0</td>\n",
       "      <td>NaN</td>\n",
       "      <td>NaN</td>\n",
       "      <td>NaN</td>\n",
       "      <td>NaN</td>\n",
       "    </tr>\n",
       "    <tr>\n",
       "      <th>1</th>\n",
       "      <td>47.831075</td>\n",
       "      <td>8.0</td>\n",
       "      <td>[A-1 Detective]</td>\n",
       "      <td>47.249026</td>\n",
       "      <td>4.0</td>\n",
       "      <td>NaN</td>\n",
       "      <td>NaN</td>\n",
       "      <td>49.236085</td>\n",
       "      <td>2.0</td>\n",
       "    </tr>\n",
       "    <tr>\n",
       "      <th>2</th>\n",
       "      <td>44.552125</td>\n",
       "      <td>1.0</td>\n",
       "      <td>[A-7 DCU SQUAD]</td>\n",
       "      <td>NaN</td>\n",
       "      <td>NaN</td>\n",
       "      <td>48.207903</td>\n",
       "      <td>3.0</td>\n",
       "      <td>NaN</td>\n",
       "      <td>NaN</td>\n",
       "    </tr>\n",
       "    <tr>\n",
       "      <th>3</th>\n",
       "      <td>46.287464</td>\n",
       "      <td>2.0</td>\n",
       "      <td>[A-7 Detective]</td>\n",
       "      <td>46.800212</td>\n",
       "      <td>4.0</td>\n",
       "      <td>45.325902</td>\n",
       "      <td>4.0</td>\n",
       "      <td>NaN</td>\n",
       "      <td>NaN</td>\n",
       "    </tr>\n",
       "    <tr>\n",
       "      <th>4</th>\n",
       "      <td>49.338695</td>\n",
       "      <td>11.0</td>\n",
       "      <td>[Academy]</td>\n",
       "      <td>43.224708</td>\n",
       "      <td>6.0</td>\n",
       "      <td>42.230736</td>\n",
       "      <td>4.0</td>\n",
       "      <td>40.055070</td>\n",
       "      <td>1.0</td>\n",
       "    </tr>\n",
       "    <tr>\n",
       "      <th>...</th>\n",
       "      <td>...</td>\n",
       "      <td>...</td>\n",
       "      <td>...</td>\n",
       "      <td>...</td>\n",
       "      <td>...</td>\n",
       "      <td>...</td>\n",
       "      <td>...</td>\n",
       "      <td>...</td>\n",
       "      <td>...</td>\n",
       "    </tr>\n",
       "    <tr>\n",
       "      <th>116</th>\n",
       "      <td>41.418285</td>\n",
       "      <td>3.0</td>\n",
       "      <td>[Suspended Unit]</td>\n",
       "      <td>39.638154</td>\n",
       "      <td>3.0</td>\n",
       "      <td>NaN</td>\n",
       "      <td>NaN</td>\n",
       "      <td>NaN</td>\n",
       "      <td>NaN</td>\n",
       "    </tr>\n",
       "    <tr>\n",
       "      <th>117</th>\n",
       "      <td>41.957055</td>\n",
       "      <td>1.0</td>\n",
       "      <td>[Technical Services Group]</td>\n",
       "      <td>45.513875</td>\n",
       "      <td>1.0</td>\n",
       "      <td>NaN</td>\n",
       "      <td>NaN</td>\n",
       "      <td>NaN</td>\n",
       "      <td>NaN</td>\n",
       "    </tr>\n",
       "    <tr>\n",
       "      <th>118</th>\n",
       "      <td>52.417143</td>\n",
       "      <td>1.0</td>\n",
       "      <td>[Technology Services Division]</td>\n",
       "      <td>41.957055</td>\n",
       "      <td>1.0</td>\n",
       "      <td>NaN</td>\n",
       "      <td>NaN</td>\n",
       "      <td>41.957055</td>\n",
       "      <td>1.0</td>\n",
       "    </tr>\n",
       "    <tr>\n",
       "      <th>119</th>\n",
       "      <td>45.910837</td>\n",
       "      <td>3.0</td>\n",
       "      <td>[Video Evidence Unit]</td>\n",
       "      <td>NaN</td>\n",
       "      <td>NaN</td>\n",
       "      <td>41.667625</td>\n",
       "      <td>1.0</td>\n",
       "      <td>39.905070</td>\n",
       "      <td>1.0</td>\n",
       "    </tr>\n",
       "    <tr>\n",
       "      <th>120</th>\n",
       "      <td>42.687943</td>\n",
       "      <td>34.0</td>\n",
       "      <td>[Youth Violence Strike Force]</td>\n",
       "      <td>40.873914</td>\n",
       "      <td>14.0</td>\n",
       "      <td>41.471766</td>\n",
       "      <td>3.0</td>\n",
       "      <td>NaN</td>\n",
       "      <td>NaN</td>\n",
       "    </tr>\n",
       "  </tbody>\n",
       "</table>\n",
       "<p>121 rows × 9 columns</p>\n",
       "</div>"
      ],
      "text/plain": [
       "     mean_hrlyratew  white_count                             tsk  \\\n",
       "0         44.450857          5.0                 [A-1 DCU SQUAD]   \n",
       "1         47.831075          8.0                 [A-1 Detective]   \n",
       "2         44.552125          1.0                 [A-7 DCU SQUAD]   \n",
       "3         46.287464          2.0                 [A-7 Detective]   \n",
       "4         49.338695         11.0                       [Academy]   \n",
       "..              ...          ...                             ...   \n",
       "116       41.418285          3.0                [Suspended Unit]   \n",
       "117       41.957055          1.0      [Technical Services Group]   \n",
       "118       52.417143          1.0  [Technology Services Division]   \n",
       "119       45.910837          3.0           [Video Evidence Unit]   \n",
       "120       42.687943         34.0   [Youth Violence Strike Force]   \n",
       "\n",
       "     mean_hrlyrateb  black_count  mean_hrlyrateh  hispa_count  mean_hrlyratea  \\\n",
       "0         39.905070          1.0             NaN          NaN             NaN   \n",
       "1         47.249026          4.0             NaN          NaN       49.236085   \n",
       "2               NaN          NaN       48.207903          3.0             NaN   \n",
       "3         46.800212          4.0       45.325902          4.0             NaN   \n",
       "4         43.224708          6.0       42.230736          4.0       40.055070   \n",
       "..              ...          ...             ...          ...             ...   \n",
       "116       39.638154          3.0             NaN          NaN             NaN   \n",
       "117       45.513875          1.0             NaN          NaN             NaN   \n",
       "118       41.957055          1.0             NaN          NaN       41.957055   \n",
       "119             NaN          NaN       41.667625          1.0       39.905070   \n",
       "120       40.873914         14.0       41.471766          3.0             NaN   \n",
       "\n",
       "     asian_count  \n",
       "0            NaN  \n",
       "1            2.0  \n",
       "2            NaN  \n",
       "3            NaN  \n",
       "4            1.0  \n",
       "..           ...  \n",
       "116          NaN  \n",
       "117          NaN  \n",
       "118          1.0  \n",
       "119          1.0  \n",
       "120          NaN  \n",
       "\n",
       "[121 rows x 9 columns]"
      ]
     },
     "execution_count": 50,
     "metadata": {},
     "output_type": "execute_result"
    }
   ],
   "source": [
    "wbha"
   ]
  },
  {
   "cell_type": "code",
   "execution_count": 54,
   "id": "b18a4b53-861d-4c08-ba54-3ec2a78d8b57",
   "metadata": {},
   "outputs": [
    {
     "data": {
      "text/plain": [
       "TtestResult(statistic=2.2692240508618258, pvalue=0.024852402185886795, df=134.0)"
      ]
     },
     "execution_count": 54,
     "metadata": {},
     "output_type": "execute_result"
    }
   ],
   "source": [
    "ttest_ind(wbha['mean_hrlyratew'].dropna(), wbha['mean_hrlyratea'].dropna())"
   ]
  },
  {
   "cell_type": "code",
   "execution_count": 55,
   "id": "5d9f0c13-fe10-4358-aba3-0b9921bf084f",
   "metadata": {},
   "outputs": [
    {
     "data": {
      "text/plain": [
       "TtestResult(statistic=0.9450521171231395, pvalue=0.34575574779824036, df=203.0)"
      ]
     },
     "execution_count": 55,
     "metadata": {},
     "output_type": "execute_result"
    }
   ],
   "source": [
    "ttest_ind(wbha['mean_hrlyratew'].dropna(), wbha['mean_hrlyrateb'].dropna())"
   ]
  },
  {
   "cell_type": "code",
   "execution_count": 56,
   "id": "f4eecfe9-289b-46a5-b1d8-8acfc6d6c819",
   "metadata": {},
   "outputs": [
    {
     "data": {
      "text/plain": [
       "TtestResult(statistic=3.0746163144466006, pvalue=0.0024584155312606364, df=169.0)"
      ]
     },
     "execution_count": 56,
     "metadata": {},
     "output_type": "execute_result"
    }
   ],
   "source": [
    "ttest_ind(wbha['mean_hrlyratew'].dropna(), wbha['mean_hrlyrateh'].dropna())"
   ]
  },
  {
   "cell_type": "code",
   "execution_count": 3,
   "id": "a4430e2c-171c-409b-aedf-7b3240ada088",
   "metadata": {},
   "outputs": [],
   "source": [
    "df['Annual Hours'] = df['Annual Rt']/df['Hrly Rate']"
   ]
  },
  {
   "cell_type": "code",
   "execution_count": 4,
   "id": "c8858d6e-90fc-47c6-93bf-4cdbf704ca57",
   "metadata": {},
   "outputs": [],
   "source": [
    "# outliers in hours worked\n",
    "\n",
    "from sklearn.covariance import EllipticEnvelope\n",
    "\n",
    "df['Outlier'] = EllipticEnvelope(random_state=0).fit_predict(df[['Annual Rt','Hrly Rate']])"
   ]
  },
  {
   "cell_type": "code",
   "execution_count": 5,
   "id": "ee895267-328e-469b-b2b7-4b13d5303d00",
   "metadata": {},
   "outputs": [
    {
     "data": {
      "image/png": "[encoded data removed]",
      "text/plain": [
       "<Figure size 800x600 with 1 Axes>"
      ]
     },
     "metadata": {},
     "output_type": "display_data"
    }
   ],
   "source": [
    "import matplotlib.pyplot as plt\n",
    "import seaborn as sns\n",
    "\n",
    "plt.figure(figsize=(8, 6))\n",
    "sns.scatterplot(\n",
    "    data=df, x='Annual Rt', y='Hrly Rate',\n",
    "    hue='Outlier', palette={1: 'blue', -1: 'red'}, style='Outlier', s=60\n",
    ")\n",
    "plt.title('Elliptic Envelope Outlier Detection')\n",
    "plt.legend(title='Outlier')\n",
    "plt.show()"
   ]
  },
  {
   "cell_type": "code",
   "execution_count": 6,
   "id": "469721fa-9e2c-4970-9b9e-9dd0c1db5d64",
   "metadata": {},
   "outputs": [
    {
     "data": {
      "text/plain": [
       "array(['Police Officer', 'Police Offc Comm Serv Offc 3$8',\n",
       "       'Police Offc Hackney Invest 3$8', 'Police Offc Bomb Squad',\n",
       "       'Police Offc/Juvenile Offc 4$10', 'Police Offc Acad Instr 2$6',\n",
       "       'Police Officer Hdq Dispatch', 'Police Offc Mobile Offc 2$6',\n",
       "       'Police Offc/FgrPrt Ev Tch 4$10', 'Police Offc/Auto Invest 4$10',\n",
       "       'Police Offc Canine Offc 2$6', 'Police Offc Harborboat 3$8',\n",
       "       'Police Offc Canine 2$6', 'Police Offc/Bomb Squad'], dtype=object)"
      ]
     },
     "execution_count": 6,
     "metadata": {},
     "output_type": "execute_result"
    }
   ],
   "source": [
    "df[(df['Outlier'] == -1) & (df['Hrly Rate'] < 50)]['Job Title'].unique()"
   ]
  },
  {
   "cell_type": "code",
   "execution_count": 7,
   "id": "e990afaf-746a-4a82-8034-28186306a23d",
   "metadata": {},
   "outputs": [],
   "source": [
    "# 41 BLACK # 58 WHITE # 5 HISPA # 0 ASIAN"
   ]
  },
  {
   "cell_type": "code",
   "execution_count": 8,
   "id": "abac2b50-6260-4f9d-a17e-1dbdc26a43bc",
   "metadata": {},
   "outputs": [
    {
     "data": {
      "text/plain": [
       "array(['Police Offc/Auto Invest 4$10', 'Police Officer',\n",
       "       'Police Officer Hdq Dispatch', 'Police Offc Comm Serv Offc 3$8',\n",
       "       'Police Offc/Juvenile Offc 4$10', 'Police Officer Harborboat 3$8',\n",
       "       'Police Offc Acad Instr 2$6', 'Police Offc Canine 2$6',\n",
       "       'Police Offc Mobile Offc 2$6', 'Police Offc Ballistician 4$10',\n",
       "       'Police Offc Canine Offc 2$6', 'Police Offc/Bomb Squad',\n",
       "       'Police Offc Harborboat 3$8', 'Police Offc/Hosp Liaison 4$10',\n",
       "       'Police Offc Bomb Squad', 'Police Officer Mobile Oper 2$6',\n",
       "       'Police Offc Hackney Invest 3$8', 'Police Offc/FgrPrt Ev Tch 4$10',\n",
       "       'Police Offc Breath $13.50', 'Police Detective', 'Police Sergeant',\n",
       "       'Police Sergeant/Comm Serv Offc', 'Police Sergeant/FgrPrt Ev Tech'],\n",
       "      dtype=object)"
      ]
     },
     "execution_count": 8,
     "metadata": {},
     "output_type": "execute_result"
    }
   ],
   "source": [
    "df[(df['Outlier'] == 1) & (df['Hrly Rate'] < 50)]['Job Title'].unique()"
   ]
  },
  {
   "cell_type": "code",
   "execution_count": 9,
   "id": "94b03d4d-04b3-45c6-874a-39dc884032a4",
   "metadata": {},
   "outputs": [
    {
     "data": {
      "text/plain": [
       "array(['Commissioner (Bpd)', 'Supn Bpd', 'Dep Supn (Bpd)',\n",
       "       'Supn-In Chief', 'Police Lieutenant (Det)', 'Police Captain (Det)',\n",
       "       'Police Lieut (Det)', 'Captain/Supv of Court Cases',\n",
       "       'Captain/Academy Instructor', 'Police Captain/DDC',\n",
       "       'Police Lieutenant', 'Police Captain', 'Police Captain-DDC/HRCD',\n",
       "       'Police Captain/Hackney Invest'], dtype=object)"
      ]
     },
     "execution_count": 9,
     "metadata": {},
     "output_type": "execute_result"
    }
   ],
   "source": [
    "df[(df['Outlier'] == -1) & (df['Hrly Rate'] > 60)]['Job Title'].unique()"
   ]
  },
  {
   "cell_type": "code",
   "execution_count": 10,
   "id": "3241e3b1-6225-4e98-8b9a-ae28671fda39",
   "metadata": {},
   "outputs": [
    {
     "data": {
      "text/plain": [
       "1757"
      ]
     },
     "execution_count": 10,
     "metadata": {},
     "output_type": "execute_result"
    }
   ],
   "source": [
    "df[(df['Outlier'] == 1) & (df['Hrly Rate'] < 50)]['Job Title'].count()"
   ]
  },
  {
   "cell_type": "code",
   "execution_count": 11,
   "id": "53e51bbe-8365-42a0-9d9c-fd0768fb172f",
   "metadata": {},
   "outputs": [
    {
     "data": {
      "text/plain": [
       "104"
      ]
     },
     "execution_count": 11,
     "metadata": {},
     "output_type": "execute_result"
    }
   ],
   "source": [
    "df[(df['Outlier'] == -1) & (df['Hrly Rate'] < 50)]['Job Title'].count()"
   ]
  },
  {
   "cell_type": "code",
   "execution_count": null,
   "id": "720b7781-ec71-4512-acff-eb777384afe5",
   "metadata": {},
   "outputs": [],
   "source": []
  },
  {
   "cell_type": "code",
   "execution_count": 12,
   "id": "95e13de5-2974-4d13-aa9d-a58214203bf1",
   "metadata": {},
   "outputs": [],
   "source": [
    "df['Monthly Hours'] = df['Monthly Rt']/df['Hrly Rate']"
   ]
  },
  {
   "cell_type": "code",
   "execution_count": 29,
   "id": "2b73e461-8850-4e39-b6e4-05bb596e58ec",
   "metadata": {},
   "outputs": [],
   "source": [
    "# outliers in hours worked\n",
    "\n",
    "from sklearn.linear_model import LinearRegression\n",
    "\n",
    "lr = LinearRegression()\n",
    "lr.fit(np.array(df['Monthly Rt']).reshape(-1,1),np.array(df['Hrly Rate']))\n",
    "df['predicted'] = lr.predict(np.array(df['Monthly Rt']).reshape(-1,1))\n",
    "df['residual'] = df['Hrly Rate'] - df['predicted']\n",
    "std_res = df['residual'].std()\n",
    "df['outlier_res'] = abs(df['residual']) > 2 * std_res"
   ]
  },
  {
   "cell_type": "code",
   "execution_count": 91,
   "id": "6773fc4f-5c82-4c33-bb8e-cf4cfb8e3da6",
   "metadata": {},
   "outputs": [
    {
     "data": {
      "image/png": "[encoded data removed]",
      "text/plain": [
       "<Figure size 1000x600 with 1 Axes>"
      ]
     },
     "metadata": {},
     "output_type": "display_data"
    }
   ],
   "source": [
    "import matplotlib.pyplot as plt\n",
    "import seaborn as sns\n",
    "\n",
    "plt.figure(figsize=(10, 6))\n",
    "sns.scatterplot(data=df, x='Monthly Rt', y='Hrly Rate')#, hue='outlier_res', palette={True: 'red', False: 'blue'})\n",
    "plt.plot(df['Monthly Rt'], df['predicted'], color='black', label='Regression Line')\n",
    "plt.title('Hours Worked (based on Hourly Rate vs Monthly Rate)')\n",
    "plt.xlabel('Monthly Rate')\n",
    "plt.ylabel('Hourly Rate')\n",
    "plt.legend()\n",
    "plt.show()"
   ]
  },
  {
   "cell_type": "code",
   "execution_count": 51,
   "id": "4403b49f-4ff1-434b-ab0d-dfce88e951b6",
   "metadata": {},
   "outputs": [],
   "source": [
    "df['Extra Hrs Month'] = (df['Annual Rt']-df['Comp Rate'])/df['Monthly Rt']"
   ]
  },
  {
   "cell_type": "code",
   "execution_count": 53,
   "id": "874cd0dc-cb4d-461c-a6f7-e8f2a31584a7",
   "metadata": {},
   "outputs": [
    {
     "data": {
      "text/plain": [
       "Text(0, 0.5, 'Months earned per year')"
      ]
     },
     "execution_count": 53,
     "metadata": {},
     "output_type": "execute_result"
    },
    {
     "data": {
      "image/png": "[encoded data removed]",
      "text/plain": [
       "<Figure size 640x480 with 1 Axes>"
      ]
     },
     "metadata": {},
     "output_type": "display_data"
    }
   ],
   "source": [
    "plt.scatter(np.array(df['Hrly Rate']), np.array(df['Extra Hrs Month']))\n",
    "plt.xlabel('Hourly Rate')\n",
    "plt.ylabel('Months earned per year')"
   ]
  },
  {
   "cell_type": "code",
   "execution_count": 32,
   "id": "06cda743-126c-4cf0-bf3c-6bd9c86e3adc",
   "metadata": {},
   "outputs": [
    {
     "data": {
      "text/plain": [
       "array(['Commissioner (Bpd)', 'Supn Bpd', 'Dep Supn (Bpd)',\n",
       "       'Supn-In Chief', 'Police Captain (Det)',\n",
       "       'Captain/Supv of Court Cases', 'Captain/Academy Instructor',\n",
       "       'Police Captain/DDC', 'Police Captain', 'Police Captain-DDC/HRCD',\n",
       "       'Police Captain/Hackney Invest'], dtype=object)"
      ]
     },
     "execution_count": 32,
     "metadata": {},
     "output_type": "execute_result"
    }
   ],
   "source": [
    "df[(df['outlier_res'] == True) & (df['Hrly Rate'] > 50)]['Job Title'].unique()"
   ]
  },
  {
   "cell_type": "code",
   "execution_count": null,
   "id": "51e0beac-e113-49f6-95ac-f991c57852be",
   "metadata": {},
   "outputs": [],
   "source": [
    "# 41 BLACK # 58 WHITE # 5 HISPA # 0 ASIAN"
   ]
  },
  {
   "cell_type": "code",
   "execution_count": 33,
   "id": "be88d5c2-04cf-4a19-b866-b4da6f9938da",
   "metadata": {},
   "outputs": [
    {
     "data": {
      "text/plain": [
       "array(['Police Lieutenant (Det)', 'Police Sergeant (Det)',\n",
       "       'Police Lieut (Det)', 'Police Sergeant', 'Police Lieutenant',\n",
       "       'PoliceSergeant/SupvCourtCases', 'Police Sergeant/Hackney Invest',\n",
       "       'Police Lieutenant/Hdq Dispatch', 'Police Sergeant/Comm Serv Offc',\n",
       "       'Police Sergeant/FgrPrt Ev Tech', 'Police Lieut/Paid Detail Ser',\n",
       "       'Police Sergeant/CHF RADIO DISP', 'Police Sergeant/Pd Det Serv',\n",
       "       'Police Sergeant/Mobile Oper', 'Police Sergeant/Bomb Squad',\n",
       "       'Police Sergeant/Hdq Dispatcher', 'Police Sergeant/AcadInstructor',\n",
       "       'Sergeant/Harbor Patrol', 'Police Lieut/Acad Instr',\n",
       "       'Police Lieutenant/Mobile Oper', 'Lieut-Hackney Carriage Inves.'],\n",
       "      dtype=object)"
      ]
     },
     "execution_count": 33,
     "metadata": {},
     "output_type": "execute_result"
    }
   ],
   "source": [
    "df[(df['outlier_res'] == False) & (df['Hrly Rate'] > 50)]['Job Title'].unique()"
   ]
  },
  {
   "cell_type": "code",
   "execution_count": 30,
   "id": "1c6d51b5-7a0a-4213-add2-d97f06be2277",
   "metadata": {},
   "outputs": [
    {
     "data": {
      "text/plain": [
       "array(['Commissioner (Bpd)', 'Supn Bpd', 'Dep Supn (Bpd)',\n",
       "       'Supn-In Chief', 'Police Lieutenant (Det)', 'Police Captain (Det)',\n",
       "       'Police Lieut (Det)', 'Captain/Supv of Court Cases',\n",
       "       'Captain/Academy Instructor', 'Police Captain/DDC',\n",
       "       'Police Lieutenant', 'Police Captain', 'Police Captain-DDC/HRCD',\n",
       "       'Police Captain/Hackney Invest'], dtype=object)"
      ]
     },
     "execution_count": 30,
     "metadata": {},
     "output_type": "execute_result"
    }
   ],
   "source": [
    "df[(df['Outlier'] == -1) & (df['Hrly Rate'] > 60)]['Job Title'].unique()"
   ]
  },
  {
   "cell_type": "code",
   "execution_count": 33,
   "id": "3cb4c737-cb62-4094-9ac3-f5a6bfdc59be",
   "metadata": {},
   "outputs": [
    {
     "data": {
      "text/plain": [
       "1757"
      ]
     },
     "execution_count": 33,
     "metadata": {},
     "output_type": "execute_result"
    }
   ],
   "source": [
    "df[(df['Outlier'] == 1) & (df['Hrly Rate'] < 50)]['Job Title'].count()"
   ]
  },
  {
   "cell_type": "code",
   "execution_count": 35,
   "id": "2dd270ad-dfb7-4912-a546-4b63a50775aa",
   "metadata": {},
   "outputs": [
    {
     "data": {
      "text/plain": [
       "104"
      ]
     },
     "execution_count": 35,
     "metadata": {},
     "output_type": "execute_result"
    }
   ],
   "source": [
    "df[(df['Outlier'] == -1) & (df['Hrly Rate'] < 50)]['Job Title'].count()"
   ]
  }
 ],
 "metadata": {
  "kernelspec": {
   "display_name": "Python 3 (ipykernel)",
   "language": "python",
   "name": "python3"
  },
  "language_info": {
   "codemirror_mode": {
    "name": "ipython",
    "version": 3
   },
   "file_extension": ".py",
   "mimetype": "text/x-python",
   "name": "python",
   "nbconvert_exporter": "python",
   "pygments_lexer": "ipython3",
   "version": "3.11.9"
  }
 },
 "nbformat": 4,
 "nbformat_minor": 5
}
